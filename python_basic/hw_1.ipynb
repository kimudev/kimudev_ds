{
 "cells": [
  {
   "cell_type": "markdown",
   "id": "4028ec35",
   "metadata": {},
   "source": [
    "# Домашнее задание к лекции \"Основы Python\"\n",
    "\n",
    "## Задание 1\n",
    "\n",
    "Даны 2 переменных, в которых хранятся строки произвольной длины: phrase_1 и phrase_2.\n",
    "Напишите код, который проверяет какая из этих строк длиннее."
   ]
  },
  {
   "cell_type": "code",
   "execution_count": 1,
   "id": "ba5b716a",
   "metadata": {
    "ExecuteTime": {
     "end_time": "2024-03-04T17:46:43.099182Z",
     "start_time": "2024-03-04T17:46:43.082479Z"
    }
   },
   "outputs": [
    {
     "name": "stdout",
     "output_type": "stream",
     "text": [
      "Фраза 1 длиннее фразы 2\n"
     ]
    }
   ],
   "source": [
    "phrase_1 = 'Насколько проще было бы писать программы, если бы не заказчики'\n",
    "phrase_2 = '640Кб должно хватить для любых задач. Билл Гейтс (по легенде)'\n",
    "\n",
    "if len(phrase_1) > len(phrase_2):\n",
    "    print('Фраза 1 длиннее фразы 2')\n",
    "elif len(phrase_1) < len(phrase_2):\n",
    "    print('Фраза 2 длиннее фразы 1')\n",
    "else:\n",
    "    print('Фразы равной длины')"
   ]
  },
  {
   "cell_type": "markdown",
   "id": "c77a5f8b",
   "metadata": {},
   "source": [
    "## Задание 2\n",
    "\n",
    "Дана переменная, в которой хранится число (год). Необходимо написать программу, которая выведет, является ли данный год високосным или обычным."
   ]
  },
  {
   "cell_type": "code",
   "execution_count": 3,
   "id": "8cc63380",
   "metadata": {
    "ExecuteTime": {
     "end_time": "2024-03-04T17:51:40.848862Z",
     "start_time": "2024-03-04T17:51:40.842215Z"
    }
   },
   "outputs": [
    {
     "name": "stdout",
     "output_type": "stream",
     "text": [
      "Обычный год\n"
     ]
    }
   ],
   "source": [
    "year = 2020\n",
    "\n",
    "if (year % 4 == 0 and year % 100 != 0) or (year % 400 == 0):\n",
    "    print('Високосный год')\n",
    "else:\n",
    "    print('Обычный год')"
   ]
  },
  {
   "cell_type": "markdown",
   "id": "1f9a5ece",
   "metadata": {},
   "source": [
    "## Задание 3\n",
    "\n",
    "Необходимо написать программу, которая будет запрашивать у пользователя месяц и дату рождения и выводить соответствующий знак зодиака."
   ]
  },
  {
   "cell_type": "code",
   "execution_count": 6,
   "id": "4449b53f",
   "metadata": {
    "ExecuteTime": {
     "end_time": "2024-03-04T18:14:25.028448Z",
     "start_time": "2024-03-04T18:14:17.334999Z"
    }
   },
   "outputs": [
    {
     "name": "stdout",
     "output_type": "stream",
     "text": [
      "Введите день: 19\n",
      "Введите месяц: Февраль\n",
      "Водолей\n"
     ]
    }
   ],
   "source": [
    "day = int(input('Введите день: '))\n",
    "month = input('Введите месяц: ')\n",
    "\n",
    "if (day >= 21 and day <= 31 and month == 'Март') or (day >= 1 and day <= 20 and month == 'Апрель'):\n",
    "    print('Овен')\n",
    "elif (day >= 21 and day <= 30 and month == 'Апрель') or (day >= 1 and day <= 20 and month == 'Май'):\n",
    "    print('Телец')\n",
    "elif (day >= 21 and day <= 31 and month == 'Май') or (day >= 1 and day <= 21 and month == 'Июнь'):\n",
    "    print('Близнецы')\n",
    "elif (day >= 22 and day <= 30 and month == 'Июнь') or (day >= 1 and day <= 22 and month == 'Июль'):\n",
    "    print('Рак')\n",
    "elif (day >= 23 and day <= 31 and month == 'Июль') or (day >= 1 and day <= 23 and month == 'Август'):\n",
    "    print('Лев')\n",
    "elif (day >= 24 and day <= 31 and month == 'Август') or (day >= 1 and day <= 23 and month == 'Сентябрь'):\n",
    "    print('Дева')\n",
    "elif (day >= 24 and day <= 30 and month == 'Сентябрь') or (day >= 1 and day <= 23 and month == 'Октябрь'):\n",
    "    print('Весы')\n",
    "elif (day >= 24 and day <= 31 and month == 'Октябрь') or (day >= 1 and day <= 22 and month == 'Ноябрь'):\n",
    "    print('Скорпион')\n",
    "elif (day >= 23 and day <= 30 and month == 'Ноябрь') or (day >= 1 and day <= 21 and month == 'Декабрь'):\n",
    "    print('Стрелец')\n",
    "elif (day >= 22 and day <= 31 and month == 'Декабрь') or (day >= 1 and day <= 20 and month == 'Январь'):\n",
    "    print('Козерог')\n",
    "elif (day >= 21 and day <= 31 and month == 'Январь') or (day >= 1 and day <= 20 and month == 'Февраль'):\n",
    "    print('Водолей')\n",
    "else:\n",
    "    print('Рыбы')"
   ]
  },
  {
   "cell_type": "markdown",
   "id": "3ab65a02",
   "metadata": {},
   "source": [
    "## Задание 4\n",
    "\n",
    "Вам нужно написать программу для подбора упаковок по размерам товара. Размеры (ширина, длина, высота) хранятся в переменных (в сантиметрах):\n",
    "\n",
    "Используйте следующие правила:\n",
    "\n",
    "- если каждое из трех измерений менее или равно 15 сантиметрам, то выведите на экран \"Коробка №1\";\n",
    "- если хотя бы одно из измерений больше 2 метров, то выводите \"Упаковка для лыж\";\n",
    "- если хотя бы одно из измерений больше 15 сантиметров, но менее 50 сантиметров, то выводите \"Коробка №2\";\n",
    "- во всех остальных случаях выводите \"Коробка №3\"."
   ]
  },
  {
   "cell_type": "code",
   "execution_count": 13,
   "id": "e7d83775",
   "metadata": {
    "ExecuteTime": {
     "end_time": "2024-03-04T18:22:56.694103Z",
     "start_time": "2024-03-04T18:22:56.686360Z"
    },
    "code_folding": [
     4
    ]
   },
   "outputs": [
    {
     "name": "stdout",
     "output_type": "stream",
     "text": [
      "Упаковка для лыж\n"
     ]
    }
   ],
   "source": [
    "width = 45\n",
    "length = 205\n",
    "height = 45\n",
    "\n",
    "if width <= 15 and length <= 15 and height <= 15:\n",
    "    print('Коробка №1')\n",
    "elif width > 200 or length > 200 or height > 200:\n",
    "    print('Упаковка для лыж')\n",
    "elif (width > 15 and width < 50) or (length > 15 and length < 50) or (height > 15 and height < 50):\n",
    "    print('Коробка №2')\n",
    "else:\n",
    "    print('Коробка №3')"
   ]
  },
  {
   "cell_type": "markdown",
   "id": "f2b0746c",
   "metadata": {},
   "source": [
    "## Задание 5 (необязательное)\n",
    "\n",
    "Дана переменная, в которой хранится шестизначное число (номер проездного билета). Напишите программу, которая будет определять, является ли данный билет \"счастливым\". Билет считается счастливым, если сумма первых трех цифр совпадает с суммой последних трех цифр номера."
   ]
  },
  {
   "cell_type": "code",
   "execution_count": 38,
   "id": "46d028c6",
   "metadata": {
    "ExecuteTime": {
     "end_time": "2024-03-04T18:37:49.129524Z",
     "start_time": "2024-03-04T18:37:49.120684Z"
    }
   },
   "outputs": [
    {
     "name": "stdout",
     "output_type": "stream",
     "text": [
      "Счастливый билет\n"
     ]
    }
   ],
   "source": [
    "number = 123321\n",
    "a = str(number)[:3]\n",
    "b = str(number)[3:]\n",
    "sum_a = 0\n",
    "sum_b = 0\n",
    "\n",
    "for i in a:\n",
    "    sum_a = sum_a + int(i)\n",
    "\n",
    "for i in b:\n",
    "    sum_b = sum_b + int(i)\n",
    "\n",
    "if sum_a == sum_b:\n",
    "    print('Счастливый билет')\n",
    "else:\n",
    "    print('Несчастливый билет')"
   ]
  },
  {
   "cell_type": "markdown",
   "id": "6602a178",
   "metadata": {},
   "source": [
    "## Задание 6 (необязательное)\n",
    "\n",
    "Напишите программу, которая сможет вычислять площади трех фигур (круг, треугольник и прямоугольник). Тип фигуры запрашиваем через пользовательский ввод, после чего делаем запрос характеристик фигуры:\n",
    "\n",
    "- если пользователь выбрал круг, запрашиваем его радиус,\n",
    "- если треугольник – длины трех его сторон;\n",
    "- если прямоугольник – длины двух его сторон."
   ]
  },
  {
   "cell_type": "code",
   "execution_count": 41,
   "id": "3989ea1b",
   "metadata": {
    "ExecuteTime": {
     "end_time": "2024-03-04T18:55:10.480421Z",
     "start_time": "2024-03-04T18:54:55.655614Z"
    }
   },
   "outputs": [
    {
     "name": "stdout",
     "output_type": "stream",
     "text": [
      "Введите тип фигуры: Треугольник\n",
      "Введите длину стороны A: 3\n",
      "Введите длину стороны B: 4\n",
      "Введите длину стороны C: 6\n",
      "Площадь треугольника:  5.332682251925386\n"
     ]
    }
   ],
   "source": [
    "import math\n",
    "\n",
    "body_type = input('Введите тип фигуры: ')\n",
    "\n",
    "if body_type == 'Круг':\n",
    "    radius = int(input('Введите радиус: '))\n",
    "    S = radius**2 * 3.14\n",
    "    \n",
    "    print('Площадь круга: ', S)\n",
    "elif body_type == 'Треугольник':\n",
    "    a = int(input('Введите длину стороны A: '))\n",
    "    b = int(input('Введите длину стороны B: '))\n",
    "    c = int(input('Введите длину стороны C: '))\n",
    "    P = (a + b + c) / 2\n",
    "    S = math.sqrt(P * (P - a) * (P - b) * (P - c))\n",
    "    \n",
    "    print('Площадь треугольника: ', S)\n",
    "else:\n",
    "    length = int(input('Введите длину прямоугольника: '))\n",
    "    width = int(input('Введите ширину прямоугольника: '))\n",
    "    S = length * width\n",
    "    \n",
    "    print('Площадь прямоугольника: ', S)"
   ]
  }
 ],
 "metadata": {
  "kernelspec": {
   "display_name": "Python 3 (ipykernel)",
   "language": "python",
   "name": "python3"
  },
  "language_info": {
   "codemirror_mode": {
    "name": "ipython",
    "version": 3
   },
   "file_extension": ".py",
   "mimetype": "text/x-python",
   "name": "python",
   "nbconvert_exporter": "python",
   "pygments_lexer": "ipython3",
   "version": "3.9.6"
  },
  "toc": {
   "base_numbering": 1,
   "nav_menu": {},
   "number_sections": true,
   "sideBar": true,
   "skip_h1_title": false,
   "title_cell": "Table of Contents",
   "title_sidebar": "Contents",
   "toc_cell": false,
   "toc_position": {},
   "toc_section_display": true,
   "toc_window_display": false
  }
 },
 "nbformat": 4,
 "nbformat_minor": 5
}
