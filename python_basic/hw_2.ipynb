{
 "cells": [
  {
   "cell_type": "markdown",
   "id": "e2247192",
   "metadata": {},
   "source": [
    "# Домашнее задание к лекции \"Введение в типы данных и циклы. \n",
    "# Часть 1\"\n",
    "\n",
    "## Задание 1\n",
    "\n",
    "Дана переменная, в которой хранится слово из латинских букв. Напишите код, который выводит на экран:\n",
    "\n",
    "- среднюю букву, если число букв в слове нечетное;\n",
    "- две средних буквы, если число букв четное."
   ]
  },
  {
   "cell_type": "code",
   "execution_count": 43,
   "id": "6751f6f2",
   "metadata": {
    "ExecuteTime": {
     "end_time": "2024-03-05T15:01:52.661124Z",
     "start_time": "2024-03-05T15:01:52.653529Z"
    }
   },
   "outputs": [
    {
     "name": "stdout",
     "output_type": "stream",
     "text": [
      "ri\n"
     ]
    }
   ],
   "source": [
    "word = 'Kirill'\n",
    "\n",
    "if len(word) % 2 == 0:\n",
    "    first_avg_letter = int(len(word) / 2 - 1)\n",
    "    two_avg_letter = int(len(word) / 2 + 1)\n",
    "    \n",
    "    print(word[first_avg_letter:two_avg_letter])\n",
    "else:\n",
    "    avg_letter = int(len(word) // 2)\n",
    "    \n",
    "    print(word[avg_letter])"
   ]
  },
  {
   "cell_type": "markdown",
   "id": "499468a2",
   "metadata": {},
   "source": [
    "## Задание 2\n",
    "\n",
    "Напишите программу, которая последовательно запрашивает у пользователя числа (по одному за раз) и после первого нуля выводит сумму всех ранее введенных чисел."
   ]
  },
  {
   "cell_type": "code",
   "execution_count": 42,
   "id": "07b8dfc1",
   "metadata": {
    "ExecuteTime": {
     "end_time": "2024-03-05T14:56:17.742359Z",
     "start_time": "2024-03-05T14:56:13.990484Z"
    }
   },
   "outputs": [
    {
     "name": "stdout",
     "output_type": "stream",
     "text": [
      "Введите число: 1\n",
      "Введите число: 2\n",
      "Введите число: 3\n",
      "Введите число: 0\n",
      "6\n"
     ]
    }
   ],
   "source": [
    "number_list = []\n",
    "\n",
    "while True:\n",
    "    number = int(input('Введите число: '))\n",
    "    if number == 0:\n",
    "        break\n",
    "    else:\n",
    "        number_list.append(number)\n",
    "        \n",
    "print(sum(number_list))\n",
    "    "
   ]
  },
  {
   "cell_type": "markdown",
   "id": "67f6c512",
   "metadata": {},
   "source": [
    "## Задание 3\n",
    "\n",
    "Мы делаем MVP dating-сервиса, и у нас есть список парней и девушек.\n",
    "Выдвигаем гипотезу: лучшие рекомендации мы получим, если просто отсортируем имена по алфавиту и познакомим людей с одинаковыми индексами после сортировки! Но мы не будем никого знакомить, если кто-то может остаться без пары."
   ]
  },
  {
   "cell_type": "code",
   "execution_count": 34,
   "id": "35e5d46d",
   "metadata": {
    "ExecuteTime": {
     "end_time": "2024-03-05T14:46:53.410292Z",
     "start_time": "2024-03-05T14:46:53.401560Z"
    }
   },
   "outputs": [
    {
     "name": "stdout",
     "output_type": "stream",
     "text": [
      "Идеальные пары:\n",
      "Peter и Liza\n",
      "Alex и Emma\n",
      "John и Kira\n",
      "Arthur и Kate\n",
      "Richard и Trisha\n"
     ]
    }
   ],
   "source": [
    "boys = ['Peter', 'Alex', 'John', 'Arthur', 'Richard']\n",
    "girls = ['Kate', 'Liza', 'Kira', 'Emma', 'Trisha']\n",
    "\n",
    "if len(boys) == len(girls):\n",
    "    print('Идеальные пары:')\n",
    "    for x in boys:\n",
    "        for y in girls:\n",
    "            if sorted(boys).index(x) == sorted(girls).index(y):\n",
    "                print(f'{x} и {y}')\n",
    "else:\n",
    "    print('Внимание, кто-то может остаться без пары!')"
   ]
  },
  {
   "cell_type": "markdown",
   "id": "7d76296e",
   "metadata": {},
   "source": [
    "## Задание 4\n",
    "\n",
    "У нас есть список, содержащий информацию о среднедневной температуре в Фаренгейтах за произвольный период по странам (структура данных в примере). Необходимо написать код, который рассчитает среднюю температуру за период в Цельсиях(!) для каждой страны."
   ]
  },
  {
   "cell_type": "code",
   "execution_count": 50,
   "id": "4b67f29e",
   "metadata": {
    "ExecuteTime": {
     "end_time": "2024-03-05T15:44:14.405617Z",
     "start_time": "2024-03-05T15:44:14.396551Z"
    }
   },
   "outputs": [
    {
     "name": "stdout",
     "output_type": "stream",
     "text": [
      "Средняя температура в странах:\n",
      "Таиланд - 23.9 C\n",
      "Германия - 13.8 C\n",
      "Россия - 3.7 C\n",
      "Польша - 12.0 C\n"
     ]
    }
   ],
   "source": [
    "countries_temperature = [\n",
    "    ['Таиланд', [75.2, 77, 78.8, 73.4, 68, 75.2, 77]],\n",
    "    ['Германия', [57.2, 55.4, 59, 59, 53.6]],\n",
    "    ['Россия', [35.6, 37.4, 39.2, 41, 42.8, 39.2, 35.6]],\n",
    "    ['Польша', [50, 50, 53.6, 57.2, 55.4, 55.4]]\n",
    "]\n",
    "\n",
    "print('Средняя температура в странах:')\n",
    "\n",
    "for i in countries_temperature:\n",
    "    avg_celsius = ((sum(i[1]) / len(i[1])) - 32) * (5 / 9)\n",
    "    print(f'{i[0]} - {avg_celsius:0.1f} C')"
   ]
  },
  {
   "cell_type": "markdown",
   "id": "f80f6238",
   "metadata": {},
   "source": [
    "## Задание 5 (необязательное)\n",
    "\n",
    "Имеется список с транспортными номерами. Необходимо написать код, который проверит каждый номер на валидность (1 буква, 3 цифры, 2 буквы, 2-3 цифры). Обратите внимание, что не все буквы кириллического алфавита используются в транспортных номерах.\n",
    "\n",
    "Если номер валиден, то вывести его в нужном формавте (пример ниже), а если не валиден — вывести текст. При решении помогут регулярные выражения, с которыми будет знакомство на практике."
   ]
  },
  {
   "cell_type": "code",
   "execution_count": 12,
   "id": "502cc38c",
   "metadata": {
    "ExecuteTime": {
     "end_time": "2024-03-06T07:27:26.243707Z",
     "start_time": "2024-03-06T07:27:26.237911Z"
    }
   },
   "outputs": [
    {
     "name": "stdout",
     "output_type": "stream",
     "text": [
      "Номер А222ВС валиден. Регион: 96\n",
      "Номер АБ22ВВ193 не валиден\n"
     ]
    }
   ],
   "source": [
    "import re\n",
    "\n",
    "# ГОСТом для использования на знаках разрешены 12 букв кириллицы, имеющие графические аналоги в \n",
    "# латинском алфавите — А, В, Е, К, М, Н, О, Р, С, Т, У, Х.\n",
    "\n",
    "car_ids = ['А222ВС96', 'АБ22ВВ193']\n",
    "\n",
    "for i in car_ids:\n",
    "    if re.fullmatch(r'[АВЕКМНОРСТУХ]\\d{3}[АВЕКМНОРСТУХ]{2}\\d{2}', i):\n",
    "        print(f'Номер {i[:6]} валиден. Регион: {i[6:]}')\n",
    "    else:\n",
    "        print(f'Номер {i} не валиден')"
   ]
  },
  {
   "cell_type": "markdown",
   "id": "cc91ae3d",
   "metadata": {},
   "source": [
    "## Задание 6 (необязательное)\n",
    "\n",
    "Дан поток логов по количеству просмотренных страниц для каждого пользователя (пользователь,дата;просмотры). Вам необходимо написать алгоритм, который считает среднее значение просмотров на пользователя. Т. е. надо посчитать отношение суммы всех просмотров к количеству уникальных пользователей. И тут регулярные выражения облегчат немного реализацию."
   ]
  },
  {
   "cell_type": "code",
   "execution_count": 31,
   "id": "1f862bfb",
   "metadata": {
    "ExecuteTime": {
     "end_time": "2024-03-06T07:45:50.653293Z",
     "start_time": "2024-03-06T07:45:50.644915Z"
    }
   },
   "outputs": [
    {
     "name": "stdout",
     "output_type": "stream",
     "text": [
      "Среднее количество просмотров на уникального пользователя: 23.25\n"
     ]
    }
   ],
   "source": [
    "stream = [\n",
    "    'user4,2021-01-01;3',\n",
    "    'user3,2022-01-07;4',\n",
    "    'user2,2022-03-29;1',\n",
    "    'user1,2020-04-04;13',\n",
    "    'user2,2022-01-05;7',\n",
    "    'user1,2021-06-14;4',\n",
    "    'user3,2022-07-02;10',\n",
    "    'user4,2021-03-21;19',\n",
    "    'user4,2022-03-22;4',\n",
    "    'user4,2022-04-22;8',\n",
    "    'user4,2021-05-03;9',\n",
    "    'user4,2022-05-11;11'\n",
    "]\n",
    "\n",
    "distinct_list = []\n",
    "views = 0\n",
    "\n",
    "for i in stream:\n",
    "    re_list = re.split('[,;]', i)\n",
    "    distinct_list.append(re_list[0])\n",
    "    views += int(re_list[2])\n",
    "\n",
    "print(f'Среднее количество просмотров на уникального пользователя: {views / len(list(set(distinct_list))):.2f}')"
   ]
  }
 ],
 "metadata": {
  "kernelspec": {
   "display_name": "Python 3 (ipykernel)",
   "language": "python",
   "name": "python3"
  },
  "language_info": {
   "codemirror_mode": {
    "name": "ipython",
    "version": 3
   },
   "file_extension": ".py",
   "mimetype": "text/x-python",
   "name": "python",
   "nbconvert_exporter": "python",
   "pygments_lexer": "ipython3",
   "version": "3.9.6"
  },
  "toc": {
   "base_numbering": 1,
   "nav_menu": {},
   "number_sections": true,
   "sideBar": true,
   "skip_h1_title": false,
   "title_cell": "Table of Contents",
   "title_sidebar": "Contents",
   "toc_cell": false,
   "toc_position": {},
   "toc_section_display": true,
   "toc_window_display": false
  }
 },
 "nbformat": 4,
 "nbformat_minor": 5
}
