{
 "cells": [
  {
   "cell_type": "markdown",
   "id": "90082b68",
   "metadata": {},
   "source": [
    "# Домашнее задание к лекции \"Введение в типы данных и циклы. Часть 2\"\n",
    "\n",
    "## Задание 1\n",
    "\n",
    "Дана переменная, в которой хранится словарь, содержащий гео-метки для каждого пользователя (пример структуры данных приведен ниже). Вам необходимо написать программу, которая выведет на экран множество уникальных гео-меток всех пользователей."
   ]
  },
  {
   "cell_type": "code",
   "execution_count": 19,
   "id": "7fe11825",
   "metadata": {
    "ExecuteTime": {
     "end_time": "2024-03-13T06:53:53.535546Z",
     "start_time": "2024-03-13T06:53:53.529699Z"
    }
   },
   "outputs": [
    {
     "name": "stdout",
     "output_type": "stream",
     "text": [
      "Уникальные гео-метки: {98, 35, 15, 213, 54, 119}\n"
     ]
    }
   ],
   "source": [
    "ids = {'user1': [213, 213, 213, 15, 213], \n",
    "       'user2': [54, 54, 119, 119, 119], \n",
    "       'user3': [213, 98, 98, 35]}\n",
    "\n",
    "# geo_list = []\n",
    "# for geo in ids.values():\n",
    "#     geo_list += geo\n",
    "    \n",
    "geo_list = [geo for geo in ids.values() for geo in geo]\n",
    "\n",
    "print(f'Уникальные гео-метки: {set(geo_list)}')"
   ]
  },
  {
   "cell_type": "markdown",
   "id": "958bc895",
   "metadata": {},
   "source": [
    "## Задание 2\n",
    "\n",
    "Дана переменная, в которой хранится список поисковых запросов пользователя (пример структуры данных приведен ниже, но запросы потенциально могут быть любые). Вам необходимо написать программу, которая выведет на экран распределение количества слов в запросах в требуемом виде."
   ]
  },
  {
   "cell_type": "code",
   "execution_count": 40,
   "id": "9e8c217e",
   "metadata": {
    "ExecuteTime": {
     "end_time": "2024-03-13T07:11:47.090986Z",
     "start_time": "2024-03-13T07:11:47.084094Z"
    }
   },
   "outputs": [
    {
     "name": "stdout",
     "output_type": "stream",
     "text": [
      "Поисковых запросов, содержащих 2 слов(а): 42.86%\n",
      "Поисковых запросов, содержащих 3 слов(а): 57.14%\n"
     ]
    }
   ],
   "source": [
    "queries = [\n",
    "    'смотреть сериалы онлайн',\n",
    "    'новости спорта',\n",
    "    'афиша кино',\n",
    "    'курс доллара',\n",
    "    'сериалы этим летом',\n",
    "    'курс по питону',\n",
    "    'сериалы про спорт',\n",
    "]\n",
    "        \n",
    "two_words = sum(len(query.split()) == 2 for query in queries)\n",
    "third_words = sum(len(query.split()) == 3 for query in queries)\n",
    "\n",
    "print(f'Поисковых запросов, содержащих 2 слов(а): {two_words / len(queries) * 100:.2f}%\\nПоисковых запросов, содержащих 3 слов(а): {third_words / len(queries) * 100:.2f}%')"
   ]
  },
  {
   "cell_type": "markdown",
   "id": "7c94e95f",
   "metadata": {},
   "source": [
    "## Задание 3\n",
    "\n",
    "Дана переменная, в которой хранится информация о затратах и доходе рекламных кампаний по различным источникам. Необходимо дополнить исходную структуру показателем ROI, который рассчитаем по формуле: **((revenue / cost) - 1) * 100**"
   ]
  },
  {
   "cell_type": "code",
   "execution_count": 52,
   "id": "5b6409b0",
   "metadata": {
    "ExecuteTime": {
     "end_time": "2024-03-13T08:13:11.040581Z",
     "start_time": "2024-03-13T08:13:11.033966Z"
    }
   },
   "outputs": [
    {
     "name": "stdout",
     "output_type": "stream",
     "text": [
      "{'vk': {'revenue': 103, 'cost': 98, 'ROI': 5.1}, 'yandex': {'revenue': 179, 'cost': 153, 'ROI': 16.99}, 'facebook': {'revenue': 103, 'cost': 110, 'ROI': -6.36}, 'adwords': {'revenue': 35, 'cost': 34, 'ROI': 2.94}, 'twitter': {'revenue': 11, 'cost': 24, 'ROI': -54.17}}\n"
     ]
    }
   ],
   "source": [
    "results = {\n",
    "    'vk': {'revenue': 103, 'cost': 98},\n",
    "    'yandex': {'revenue': 179, 'cost': 153},\n",
    "    'facebook': {'revenue': 103, 'cost': 110},\n",
    "    'adwords': {'revenue': 35, 'cost': 34},\n",
    "    'twitter': {'revenue': 11, 'cost': 24},\n",
    "}\n",
    "\n",
    "for i in results.values():\n",
    "    i['ROI'] = round(((i['revenue'] / i['cost']) - 1) * 100, 2)\n",
    "\n",
    "print(results)"
   ]
  },
  {
   "cell_type": "markdown",
   "id": "01a73b74",
   "metadata": {},
   "source": [
    "## Задание 4\n",
    "\n",
    "Дана переменная, в которой хранится статистика рекламных каналов по объемам продаж (пример структуры данных приведен ниже). Напишите программу, которая возвращает название канала с максимальным объемом продаж."
   ]
  },
  {
   "cell_type": "code",
   "execution_count": 86,
   "id": "f1a61585",
   "metadata": {
    "ExecuteTime": {
     "end_time": "2024-03-13T08:39:10.158998Z",
     "start_time": "2024-03-13T08:39:10.152737Z"
    }
   },
   "outputs": [
    {
     "name": "stdout",
     "output_type": "stream",
     "text": [
      "Максимальный объем продаж на рекламном канале: vk\n"
     ]
    }
   ],
   "source": [
    "stats = {'facebook': 55, 'yandex': 115, 'vk': 120, 'google': 99, 'email': 42, 'ok': 98}\n",
    "\n",
    "max_sales = 0\n",
    "max_company = \"\"\n",
    "for company, amount in stats.items():\n",
    "    if amount > max_sales:\n",
    "        max_sales = amount\n",
    "        max_company = company\n",
    "        \n",
    "print(f'Максимальный объем продаж на рекламном канале: {max_company}')"
   ]
  },
  {
   "cell_type": "markdown",
   "id": "7e046773",
   "metadata": {},
   "source": [
    "## Задание 5 (необязательно)\n",
    "\n",
    "Дан список произвольной длины. Необходимо написать код, который на основе исходного списка составит словарь такого уровня вложенности, какова длина исхондого списка."
   ]
  },
  {
   "cell_type": "code",
   "execution_count": 109,
   "id": "d841f94f",
   "metadata": {
    "ExecuteTime": {
     "end_time": "2024-03-13T10:37:00.515408Z",
     "start_time": "2024-03-13T10:37:00.508449Z"
    }
   },
   "outputs": [
    {
     "name": "stdout",
     "output_type": "stream",
     "text": [
      "{'2018-01-01': {'yandex': {'cpc': 100}}}\n"
     ]
    }
   ],
   "source": [
    "my_list = ['2018-01-01', 'yandex', 'cpc', 100]\n",
    "# my_list = ['a', 'b', 'c', 'd', 'e', 'f']\n",
    "\n",
    "result = my_list[-1]\n",
    "\n",
    "for i in reversed(my_list[:-1]):\n",
    "    result = {i: result}\n",
    "\n",
    "print(result)"
   ]
  },
  {
   "cell_type": "markdown",
   "id": "80c0c28b",
   "metadata": {},
   "source": [
    "## Задание 6 (необязательно)\n",
    "\n",
    "Дана книга рецептов с информацией о том, сколько ингредиентов нужно для приготовления блюда в расчете на одну порцию (пример данных представлен ниже).\n",
    "Напишите программу, которая будет запрашивать у пользователя количество порций для приготовления этих блюд и отображать информацию о суммарном количестве требуемых ингредиентов в указанном виде.\n",
    "**Внимание!** Одинаковые ингредиенты с разными размерностями нужно считать раздельно!"
   ]
  },
  {
   "cell_type": "code",
   "execution_count": 114,
   "id": "fa4cd0ef",
   "metadata": {
    "ExecuteTime": {
     "end_time": "2024-03-13T10:54:42.788461Z",
     "start_time": "2024-03-13T10:54:41.420316Z"
    }
   },
   "outputs": [
    {
     "name": "stdout",
     "output_type": "stream",
     "text": [
      "Введите количество порций: 3\n",
      "\n",
      "Сыр: 150 гр\n",
      "Томаты: 6 шт\n",
      "Огурцы: 60 гр\n",
      "Маслины: 30 гр\n",
      "Оливковое масло: 60 мл\n",
      "Салат: 30 гр\n",
      "Перец: 60 гр\n",
      "Сыр: 60 гр\n",
      "Колбаса: 90 гр\n",
      "Бекон: 90 гр\n",
      "Оливки: 30 гр\n",
      "Томаты: 60 гр\n",
      "Тесто: 300 гр\n",
      "Лимон: 3 шт\n",
      "Вода: 600 мл\n",
      "Сахар: 30 гр\n",
      "Лайм: 60 гр\n"
     ]
    }
   ],
   "source": [
    "cook_book = {\n",
    "  'салат': [\n",
    "     {'ingridient_name': 'сыр', 'quantity': 50, 'measure': 'гр'},\n",
    "     {'ingridient_name': 'томаты', 'quantity': 2, 'measure': 'шт'},\n",
    "     {'ingridient_name': 'огурцы', 'quantity': 20, 'measure': 'гр'},\n",
    "     {'ingridient_name': 'маслины', 'quantity': 10, 'measure': 'гр'},\n",
    "     {'ingridient_name': 'оливковое масло', 'quantity': 20, 'measure': 'мл'},\n",
    "     {'ingridient_name': 'салат', 'quantity': 10, 'measure': 'гр'},\n",
    "     {'ingridient_name': 'перец', 'quantity': 20, 'measure': 'гр'}\n",
    "    ],\n",
    "  'пицца': [\n",
    "     {'ingridient_name': 'сыр', 'quantity': 20, 'measure': 'гр'},\n",
    "     {'ingridient_name': 'колбаса', 'quantity': 30, 'measure': 'гр'},\n",
    "     {'ingridient_name': 'бекон', 'quantity': 30, 'measure': 'гр'},\n",
    "     {'ingridient_name': 'оливки', 'quantity': 10, 'measure': 'гр'},\n",
    "     {'ingridient_name': 'томаты', 'quantity': 20, 'measure': 'гр'},\n",
    "     {'ingridient_name': 'тесто', 'quantity': 100, 'measure': 'гр'},   \n",
    "    ],\n",
    "  'лимонад': [\n",
    "     {'ingridient_name': 'лимон', 'quantity': 1, 'measure': 'шт'},\n",
    "     {'ingridient_name': 'вода', 'quantity': 200, 'measure': 'мл'},\n",
    "     {'ingridient_name': 'сахар', 'quantity': 10, 'measure': 'гр'},\n",
    "     {'ingridient_name': 'лайм', 'quantity': 20, 'measure': 'гр'},    \n",
    "    ]\n",
    "}\n",
    "\n",
    "number_of_servings = int(input('Введите количество порций: '))\n",
    "print()\n",
    "\n",
    "final_dict = {}\n",
    "\n",
    "for i in cook_book.values():\n",
    "    for x in i:\n",
    "        print(f'{x[\"ingridient_name\"].capitalize()}: {x[\"quantity\"]*number_of_servings} {x[\"measure\"]}')\n",
    "\n",
    "# Введите количество порций:  \n",
    "# 3\n",
    "# Результат:\n",
    "\n",
    "# Сыр: 210 гр  \n",
    "# Томаты: 6 шт  \n",
    "# Огурцы: 60 гр  \n",
    "# Маслины: 30 гр  \n",
    "# Оливковое масло: 60 мл  \n",
    "# Салат: 30 гр  \n",
    "# Перец: 60 гр  \n",
    "# Колбаса: 90 гр  \n",
    "# Бекон: 90 гр  \n",
    "# Оливки: 30 гр  \n",
    "# Томаты: 60 гр  \n",
    "# Тесто: 300 гр  \n",
    "# Лимон: 3 шт  \n",
    "# Вода: 600 мл  \n",
    "# Сахар: 30 гр  \n",
    "# Лайм: 60 гр  "
   ]
  }
 ],
 "metadata": {
  "kernelspec": {
   "display_name": "Python 3 (ipykernel)",
   "language": "python",
   "name": "python3"
  },
  "language_info": {
   "codemirror_mode": {
    "name": "ipython",
    "version": 3
   },
   "file_extension": ".py",
   "mimetype": "text/x-python",
   "name": "python",
   "nbconvert_exporter": "python",
   "pygments_lexer": "ipython3",
   "version": "3.9.6"
  },
  "toc": {
   "base_numbering": 1,
   "nav_menu": {},
   "number_sections": true,
   "sideBar": true,
   "skip_h1_title": false,
   "title_cell": "Table of Contents",
   "title_sidebar": "Contents",
   "toc_cell": false,
   "toc_position": {},
   "toc_section_display": true,
   "toc_window_display": false
  }
 },
 "nbformat": 4,
 "nbformat_minor": 5
}
