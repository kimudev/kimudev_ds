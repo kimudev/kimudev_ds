{
 "cells": [
  {
   "cell_type": "markdown",
   "id": "9357b4eb",
   "metadata": {},
   "source": [
    "# Домашнее задание к лекции \"Функции\"\n",
    "\n",
    "Вам нужно помочь секретарю автоматизировать работу. Для этого нужно написать программу, которая будет на основе хранимых данных исполнять пользовательские команды.\n",
    "\n",
    "Исходные данные имеют следующую структуру:\n",
    "\n",
    "1. перечень всех документов\n",
    "```python\n",
    "documents = [\n",
    "    {'type': 'passport', 'number': '2207 876234', 'name': 'Василий Гупкин'},\n",
    "    {'type': 'invoice', 'number': '11-2', 'name': 'Геннадий Покемонов'},\n",
    "    {'type': 'insurance', 'number': '10006', 'name': 'Аристарх Павлов'}\n",
    "]\n",
    "```\n",
    "\n",
    "2. перечень полок, на которых хранятся документы (если документ есть в documents, то он обязательно должен быть и в directories)\n",
    "```python\n",
    "directories = {\n",
    "    '1': ['2207 876234', '11-2'],\n",
    "    '2': ['10006'],\n",
    "    '3': []\n",
    "}\n",
    "```\n",
    "\n",
    "Общие требования к программе:\n",
    "\n",
    "- код должен быть грамотно декомпозирован (каждая функция отвечает за свою конкретную задачу, дублирующийся функционал переиспользуется, а его код не повторяется);\n",
    "- в коде отсутствуют глобальные переменные (за исключением **documents** и **directories**);\n",
    "- пользовательский ввод обрабатывается в цикле **while** до тех пор, пока пользователь явно не завершит программу (вводом команды \"**q**\")."
   ]
  },
  {
   "cell_type": "markdown",
   "id": "e4b9dcb0",
   "metadata": {},
   "source": [
    "## Задание 1\n",
    "\n",
    "### Пункт 1. Пользователь по команде \"p\" может узнать владельца документа по его номеру"
   ]
  },
  {
   "cell_type": "code",
   "execution_count": 28,
   "id": "a66b35c7",
   "metadata": {
    "ExecuteTime": {
     "end_time": "2024-03-25T15:07:48.402525Z",
     "start_time": "2024-03-25T15:07:48.391755Z"
    }
   },
   "outputs": [
    {
     "name": "stdout",
     "output_type": "stream",
     "text": [
      "Владелец документа: Аристарх Павлов\n"
     ]
    }
   ],
   "source": [
    "# Примеры работы:\n",
    "\n",
    "# Введите команду:\n",
    "# p\n",
    "\n",
    "# Введите номер документа:\n",
    "# 10006\n",
    "# Результат:\n",
    "# Владелец документа: Аристарх Павлов\n",
    "\n",
    "# Введите команду:\n",
    "# p\n",
    "\n",
    "# Введите номер документа:\n",
    "# 12345\n",
    "# Результат:\n",
    "# Документ не найден в базе\n",
    "\n",
    "documents = [\n",
    "    {'type': 'passport', 'number': '2207 876234', 'name': 'Василий Гупкин'},\n",
    "    {'type': 'invoice', 'number': '11-2', 'name': 'Геннадий Покемонов'},\n",
    "    {'type': 'insurance', 'number': '10006', 'name': 'Аристарх Павлов'}\n",
    "]\n",
    "\n",
    "directories = {\n",
    " '1': ['2207 876234', '11-2'],\n",
    " '2': ['10006'],\n",
    " '3': []\n",
    "}\n",
    "\n",
    "def owner_document(num_pass):\n",
    "    document_found = False\n",
    "    for i in documents:\n",
    "        if i['number'] == num_pass:\n",
    "            return f'Владелец документа: {i[\"name\"]}'\n",
    "    if not document_found:\n",
    "        return 'Документ не найден в базе'\n",
    "print(owner_document('10006'))   "
   ]
  },
  {
   "cell_type": "markdown",
   "id": "361fcd3a",
   "metadata": {},
   "source": [
    "### Пункт 2. Пользователь по команде \"s\" может по номеру документа узнать на какой полке он хранится"
   ]
  },
  {
   "cell_type": "code",
   "execution_count": 31,
   "id": "80b21a0b",
   "metadata": {
    "ExecuteTime": {
     "end_time": "2024-03-25T15:09:07.627484Z",
     "start_time": "2024-03-25T15:09:07.619477Z"
    }
   },
   "outputs": [
    {
     "name": "stdout",
     "output_type": "stream",
     "text": [
      "Документ хранится на полке: 2\n"
     ]
    }
   ],
   "source": [
    "# Примеры работы:\n",
    "\n",
    "# Введите команду:\n",
    "# s\n",
    "\n",
    "# Введите номер документа:\n",
    "# 10006\n",
    "# Результат:\n",
    "# Документ хранится на полке: 2\n",
    "\n",
    "# Введите команду:\n",
    "# s\n",
    "\n",
    "# Введите номер документа:\n",
    "# 12345\n",
    "# Результат:\n",
    "# Документ не найден в базе\n",
    "\n",
    "def what_directories(num_pass):\n",
    "    document_found = False\n",
    "    for x, y in directories.items():\n",
    "        if num_pass in y:\n",
    "            return f'Документ хранится на полке: {x}'\n",
    "    if not document_found:\n",
    "        return 'Документ не найден в базе'\n",
    "print(what_directories('10006'))"
   ]
  },
  {
   "cell_type": "markdown",
   "id": "77694cf5",
   "metadata": {},
   "source": [
    "### Пункт 3. Пользователь по команде \"l\" может увидеть полную информацию по всем документам"
   ]
  },
  {
   "cell_type": "code",
   "execution_count": 12,
   "id": "009050c7",
   "metadata": {
    "ExecuteTime": {
     "end_time": "2024-03-25T15:01:52.751401Z",
     "start_time": "2024-03-25T15:01:52.740276Z"
    }
   },
   "outputs": [
    {
     "name": "stdout",
     "output_type": "stream",
     "text": [
      "№: 2207 876234, тип: passport, владелец: Василий Гупкин, полка хранения: 1\n",
      "№: 11-2, тип: invoice, владелец: Геннадий Покемонов, полка хранения: 1\n",
      "№: 10006, тип: insurance, владелец: Аристарх Павлов, полка хранения: 2\n"
     ]
    }
   ],
   "source": [
    "# Пример работы:\n",
    "\n",
    "# Введите команду:\n",
    "# l\n",
    "# Результат:\n",
    "\n",
    "# №: 2207 876234, тип: passport, владелец: Василий Гупкин, полка хранения: 1\n",
    "# №: 11-2, тип: invoice, владелец: Геннадий Покемонов, полка хранения: 1\n",
    "# №: 10006, тип: insurance, владелец: Аристарх Павлов, полка хранения: 2\n",
    "\n",
    "def view_all():\n",
    "    for i in documents:\n",
    "        for x, y in directories.items():\n",
    "            if i['number'] in y:\n",
    "                print(f'№: {i[\"number\"]}, тип: {i[\"type\"]}, владелец: {i[\"name\"]}, полка хранения: {x}')\n",
    "view_all()"
   ]
  },
  {
   "cell_type": "markdown",
   "id": "c6b717dc",
   "metadata": {},
   "source": [
    "### Пункт 4. Пользователь по команде \"ads\" может добавить новую полку"
   ]
  },
  {
   "cell_type": "code",
   "execution_count": 25,
   "id": "26200b68",
   "metadata": {
    "ExecuteTime": {
     "end_time": "2024-03-25T15:05:44.539881Z",
     "start_time": "2024-03-25T15:05:44.531197Z"
    }
   },
   "outputs": [
    {
     "name": "stdout",
     "output_type": "stream",
     "text": [
      "Полка добавлена. Текущий перечень полок: 1, 2, 3, 10\n",
      "{'1': ['2207 876234', '11-2'], '2': ['10006'], '3': [], '10': []}\n"
     ]
    }
   ],
   "source": [
    "# Примеры работы:\n",
    "\n",
    "# Введите команду:\n",
    "# ads\n",
    "\n",
    "# Введите номер полки:\n",
    "# 10\n",
    "# Результат:\n",
    "# Полка добавлена. Текущий перечень полок: 1, 2, 3, 10.\n",
    "\n",
    "# Введите команду:\n",
    "# ads\n",
    "\n",
    "# Введите номер полки:\n",
    "# 1\n",
    "# Результат:\n",
    "# Такая полка уже существует. Текущий перечень полок: 1, 2, 3.\n",
    "\n",
    "def add_shelf(num_shelf):\n",
    "    if num_shelf in list(directories.keys()):\n",
    "        return f'Такая полка уже существует. Текущий перечень полок: {\", \".join(list(directories.keys()))}'\n",
    "    else:\n",
    "        directories[str(num_shelf)] = []\n",
    "        return f'Полка добавлена. Текущий перечень полок: {\", \".join(list(directories.keys()))}'\n",
    "print(add_shelf(10))"
   ]
  },
  {
   "cell_type": "markdown",
   "id": "17d7c781",
   "metadata": {},
   "source": [
    "### Пункт 5. Пользователь по команде \"ds\" может удалить существующую полку из данных (только если она пустая)"
   ]
  },
  {
   "cell_type": "code",
   "execution_count": 24,
   "id": "0c5260fb",
   "metadata": {
    "ExecuteTime": {
     "end_time": "2024-03-25T15:05:34.828687Z",
     "start_time": "2024-03-25T15:05:34.818108Z"
    }
   },
   "outputs": [
    {
     "name": "stdout",
     "output_type": "stream",
     "text": [
      "Полка удалена. Текущий перечень полок: 1, 2, 3\n"
     ]
    }
   ],
   "source": [
    "# Примеры работы:\n",
    "\n",
    "# Введите команду:\n",
    "# ds\n",
    "\n",
    "# Введите номер полки:\n",
    "# 3\n",
    "# Результат:\n",
    "# Полка удалена. Текущий перечень полок: 1, 2.\n",
    "\n",
    "# Введите команду:\n",
    "# ds\n",
    "\n",
    "# Введите номер полки:\n",
    "# 1\n",
    "# Результат:\n",
    "# На полке есть документа, удалите их перед удалением полки. Текущий перечень полок: 1, 2, 3.\n",
    "\n",
    "# Введите команду:\n",
    "# ds\n",
    "\n",
    "# Введите номер полки:\n",
    "# 4\n",
    "# Результат:\n",
    "# Такой полки не существует. Текущий перечень полок: 1, 2, 3.\n",
    "\n",
    "def del_shelf(num_shelf):\n",
    "    if num_shelf not in list(directories.keys()):\n",
    "        return f'Такой полки не существует. Текущий перечень полок: {\", \".join(list(directories.keys()))}'\n",
    "    else:\n",
    "        if len(directories[str(num_shelf)]) == 0:\n",
    "            directories.pop(str(num_shelf))\n",
    "            return f'Полка удалена. Текущий перечень полок: {\", \".join(list(directories.keys()))}'\n",
    "        else:\n",
    "            return f'На полке есть документа, удалите их перед удалением полки. Текущий перечень полок: {\", \".join(list(directories.keys()))}'\n",
    "print(del_shelf('10'))"
   ]
  },
  {
   "cell_type": "code",
   "execution_count": null,
   "id": "61cdb13a",
   "metadata": {
    "ExecuteTime": {
     "start_time": "2024-03-25T15:09:13.546Z"
    }
   },
   "outputs": [
    {
     "name": "stdout",
     "output_type": "stream",
     "text": [
      "Введите команду или 'q' для выхода: p\n",
      "Введите номер документа: 10006\n",
      "Владелец документа: Аристарх Павлов\n",
      "Введите команду или 'q' для выхода: s\n",
      "Введите номер документа: 10006\n",
      "Документ хранится на полке: 2\n",
      "Введите команду или 'q' для выхода: l\n",
      "№: 2207 876234, тип: passport, владелец: Василий Гупкин, полка хранения: 1\n",
      "№: 11-2, тип: invoice, владелец: Геннадий Покемонов, полка хранения: 1\n",
      "№: 10006, тип: insurance, владелец: Аристарх Павлов, полка хранения: 2\n",
      "Введите команду или 'q' для выхода: ads\n",
      "Введите номер полки: 11\n",
      "Полка добавлена. Текущий перечень полок: 1, 2, 3, 11\n",
      "Введите команду или 'q' для выхода: ds\n",
      "Введите номер полки: 11\n",
      "Полка удалена. Текущий перечень полок: 1, 2, 3\n"
     ]
    }
   ],
   "source": [
    "def calc():\n",
    "    while True:\n",
    "        user_input = input(\"Введите команду или 'q' для выхода: \")\n",
    "        if user_input == 'q':\n",
    "            break\n",
    "        elif user_input == 'p':\n",
    "            num_pass = input('Введите номер документа: ')\n",
    "            print(owner_document(num_pass))\n",
    "        elif user_input == 's':\n",
    "            num_pass = input('Введите номер документа: ')\n",
    "            print(what_directories(num_pass))\n",
    "        elif user_input == 'l':\n",
    "            view_all()\n",
    "        elif user_input == 'ads':\n",
    "            num_shelf = input('Введите номер полки: ')\n",
    "            print(add_shelf(num_shelf))\n",
    "        elif user_input == 'ds':\n",
    "            num_shelf = input('Введите номер полки: ')\n",
    "            print(del_shelf(num_shelf))\n",
    "            \n",
    "calc()"
   ]
  }
 ],
 "metadata": {
  "kernelspec": {
   "display_name": "Python 3 (ipykernel)",
   "language": "python",
   "name": "python3"
  },
  "language_info": {
   "codemirror_mode": {
    "name": "ipython",
    "version": 3
   },
   "file_extension": ".py",
   "mimetype": "text/x-python",
   "name": "python",
   "nbconvert_exporter": "python",
   "pygments_lexer": "ipython3",
   "version": "3.9.6"
  },
  "toc": {
   "base_numbering": 1,
   "nav_menu": {},
   "number_sections": true,
   "sideBar": true,
   "skip_h1_title": false,
   "title_cell": "Table of Contents",
   "title_sidebar": "Contents",
   "toc_cell": false,
   "toc_position": {},
   "toc_section_display": true,
   "toc_window_display": false
  }
 },
 "nbformat": 4,
 "nbformat_minor": 5
}
